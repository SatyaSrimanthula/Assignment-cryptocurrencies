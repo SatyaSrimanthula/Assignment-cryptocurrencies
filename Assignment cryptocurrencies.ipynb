{
 "cells": [
  {
   "cell_type": "code",
   "execution_count": 1,
   "id": "1ea8a846",
   "metadata": {
    "scrolled": false
   },
   "outputs": [
    {
     "name": "stdout",
     "output_type": "stream",
     "text": [
      "Symbol: BRISEINR, Last Price: 0.00001323, Volume: 68668205152.0\n",
      "Symbol: LOVELYINR, Last Price: 0.000008998, Volume: 36127731425.0\n",
      "Symbol: LOVELYUSDT, Last Price: 0.0000001004, Volume: 18188996905.0\n",
      "Symbol: PEPEINR, Last Price: 0.000744, Volume: 10194583313.0\n",
      "Symbol: BRISEUSDT, Last Price: 0.000000148, Volume: 5372204082.0\n",
      "Symbol: BTTCINR, Last Price: 0.0001015, Volume: 4801352736.0\n",
      "Symbol: SHIBINR, Last Price: 0.001953, Volume: 4026799989.0\n",
      "Symbol: PEPEUSDT, Last Price: 0.00000842, Volume: 1072635577.0\n",
      "Symbol: BTTCUSDT, Last Price: 0.00000115, Volume: 765850382.0\n",
      "Symbol: HTXINR, Last Price: 0.00012126, Volume: 738476681.0\n",
      "Symbol: BONKINR, Last Price: 0.001965, Volume: 706674194.0\n",
      "Symbol: SHIBUSDT, Last Price: 0.00002181, Volume: 332414547.0\n",
      "Symbol: FLOKIINR, Last Price: 0.0145, Volume: 235947351.0\n",
      "Symbol: BONKUSDT, Last Price: 0.00002192, Volume: 229204233.0\n",
      "Symbol: XECINR, Last Price: 0.00393, Volume: 127447801.0\n",
      "Symbol: BOBINR, Last Price: 0.0020709, Volume: 108388088.0\n",
      "Symbol: XECUSDT, Last Price: 0.00004366, Volume: 88533137.0\n",
      "Symbol: BOBUSDT, Last Price: 0.00002298, Volume: 82497994.0\n",
      "Symbol: HTXUSDT, Last Price: 0.000001335, Volume: 55297118.0\n",
      "Symbol: WININR, Last Price: 0.0105, Volume: 31066575.0\n"
     ]
    }
   ],
   "source": [
    "import requests\n",
    "\n",
    "def fetch_top_cryptos():\n",
    "    # WazirX Ticker API URL\n",
    "    url = \"https://api.wazirx.com/api/v2/tickers\"\n",
    "    \n",
    "    # Send request to WazirX API\n",
    "    response = requests.get(url)\n",
    "    \n",
    "    # Convert the response to JSON\n",
    "    data = response.json()\n",
    "    \n",
    "    # Sort cryptocurrencies by volume (converted to float for sorting) and slice the top 20\n",
    "    top_cryptos = sorted(data.items(), key=lambda x: float(x[1]['volume']), reverse=True)[:20]\n",
    "    \n",
    "    # Print the results\n",
    "    for symbol, details in top_cryptos:\n",
    "        print(f\"Symbol: {symbol.upper()}, Last Price: {details['last']}, Volume: {details['volume']}\")\n",
    "\n",
    "if __name__ == \"__main__\":\n",
    "    fetch_top_cryptos()"
   ]
  },
  {
   "cell_type": "code",
   "execution_count": null,
   "id": "ac9b3f29",
   "metadata": {},
   "outputs": [],
   "source": []
  }
 ],
 "metadata": {
  "kernelspec": {
   "display_name": "Python 3 (ipykernel)",
   "language": "python",
   "name": "python3"
  },
  "language_info": {
   "codemirror_mode": {
    "name": "ipython",
    "version": 3
   },
   "file_extension": ".py",
   "mimetype": "text/x-python",
   "name": "python",
   "nbconvert_exporter": "python",
   "pygments_lexer": "ipython3",
   "version": "3.9.7"
  }
 },
 "nbformat": 4,
 "nbformat_minor": 5
}
